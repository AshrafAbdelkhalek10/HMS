{
  "cells": [
    {
      "cell_type": "code",
      "execution_count": 2,
      "metadata": {
        "colab": {
          "base_uri": "https://localhost:8080/"
        },
        "id": "lzT6yThnjEht",
        "outputId": "792c0369-1c14-41f2-802d-31ea9ffdcc75"
      },
      "outputs": [
        {
          "name": "stderr",
          "output_type": "stream",
          "text": [
            "C:\\Users\\proah\\AppData\\Local\\Temp\\ipykernel_18472\\2715890615.py:2: DeprecationWarning: \n",
            "Pyarrow will become a required dependency of pandas in the next major release of pandas (pandas 3.0),\n",
            "(to allow more performant data types, such as the Arrow string type, and better interoperability with other libraries)\n",
            "but was not found to be installed on your system.\n",
            "If this would cause problems for you,\n",
            "please provide us feedback at https://github.com/pandas-dev/pandas/issues/54466\n",
            "        \n",
            "  import pandas as pd\n"
          ]
        }
      ],
      "source": [
        "# Import necessary libraries\n",
        "import pandas as pd\n",
        "from sklearn.model_selection import train_test_split\n",
        "from sklearn.preprocessing import LabelEncoder\n",
        "from sklearn.ensemble import RandomForestRegressor\n",
        "from sklearn.metrics import mean_squared_error\n",
        "\n",
        "\n",
        "# Load the dataset\n",
        "file_path = 'LengthOfStay.csv'  # Replace with your file path\n",
        "df = pd.read_csv(file_path)\n",
        "\n"
      ]
    },
    {
      "cell_type": "code",
      "execution_count": 3,
      "metadata": {},
      "outputs": [],
      "source": [
        "# Step 1: Data Preprocessing\n",
        "\n",
        "# Convert date columns to datetime format\n",
        "df['vdate'] = pd.to_datetime(df['vdate'], errors='coerce')\n",
        "df['discharged'] = pd.to_datetime(df['discharged'], errors='coerce')\n",
        "\n",
        "# Create new features from the date columns (e.g., year, month)\n",
        "df['vdate_year'] = df['vdate'].dt.year\n",
        "df['vdate_month'] = df['vdate'].dt.month\n",
        "df['discharged_year'] = df['discharged'].dt.year\n",
        "df['discharged_month'] = df['discharged'].dt.month\n",
        "\n",
        "# Drop the original date columns\n",
        "df = df.drop(columns=['vdate', 'discharged'])\n",
        "\n",
        "# Encode categorical variables\n",
        "label_encoder = LabelEncoder()\n",
        "df['gender'] = label_encoder.fit_transform(df['gender'])\n",
        "df['rcount'] = label_encoder.fit_transform(df['rcount'])\n",
        "df['facid'] = label_encoder.fit_transform(df['facid'])\n",
        "\n"
      ]
    },
    {
      "cell_type": "code",
      "execution_count": 4,
      "metadata": {},
      "outputs": [],
      "source": [
        "# Step 2: Handling Missing Values in Target Variable\n",
        "\n",
        "# Drop rows where the target variable 'lengthofstay' is NaN\n",
        "df = df.dropna(subset=['lengthofstay'])\n",
        "\n",
        "# Step 3: Splitting Data into Features and Target\n",
        "\n",
        "# Separate features and target variable\n",
        "X = df.drop(columns=['lengthofstay', 'eid'])  # Features (excluding 'eid' and target)\n",
        "y = df['lengthofstay']  # Target\n",
        "\n"
      ]
    },
    {
      "cell_type": "code",
      "execution_count": 5,
      "metadata": {},
      "outputs": [],
      "source": [
        "# Step 4: Train-Test Split\n",
        "\n",
        "# Split the data into training and testing sets (80% train, 20% test)\n",
        "X_train, X_test, y_train, y_test = train_test_split(X, y, test_size=0.2, random_state=42)\n",
        "\n"
      ]
    },
    {
      "cell_type": "code",
      "execution_count": 6,
      "metadata": {},
      "outputs": [
        {
          "name": "stdout",
          "output_type": "stream",
          "text": [
            "Mean Squared Error: 0.40142654499999997\n"
          ]
        }
      ],
      "source": [
        "# Step 5: Model Training and Testing\n",
        "\n",
        "# Initialize the Random Forest model\n",
        "model = RandomForestRegressor(n_estimators=100, random_state=42)\n",
        "\n",
        "# Train the model\n",
        "model.fit(X_train, y_train)\n",
        "\n",
        "# Predict on the test set\n",
        "y_pred = model.predict(X_test)\n",
        "\n",
        "# Evaluate the model using Mean Squared Error\n",
        "mse = mean_squared_error(y_test, y_pred)\n",
        "print(f'Mean Squared Error: {mse}')\n"
      ]
    },
    {
      "cell_type": "code",
      "execution_count": 7,
      "metadata": {
        "colab": {
          "base_uri": "https://localhost:8080/"
        },
        "id": "PM_d7Hhvkoa7",
        "outputId": "67ad8473-47a9-4e2f-e01e-91ca64e3224b"
      },
      "outputs": [
        {
          "name": "stdout",
          "output_type": "stream",
          "text": [
            "R-squared: 0.926843051265384\n",
            "Root Mean Squared Error: 0.6335823111482832\n"
          ]
        }
      ],
      "source": [
        "from sklearn.metrics import r2_score\n",
        "import numpy as np\n",
        "\n",
        "# Calculate R-squared\n",
        "r2 = r2_score(y_test, y_pred)\n",
        "\n",
        "# Calculate RMSE (Root Mean Squared Error)\n",
        "rmse = np.sqrt(mse)\n",
        "\n",
        "print(f'R-squared: {r2}')\n",
        "print(f'Root Mean Squared Error: {rmse}')\n"
      ]
    },
    {
      "cell_type": "code",
      "execution_count": 8,
      "metadata": {
        "colab": {
          "base_uri": "https://localhost:8080/"
        },
        "id": "Ig-mbmXVmxtD",
        "outputId": "f756ccb3-d343-4d36-f6f7-6fab69c5c75b"
      },
      "outputs": [
        {
          "name": "stdout",
          "output_type": "stream",
          "text": [
            "Predicted Length of Stay: 7.06\n"
          ]
        }
      ],
      "source": [
        "# Step 6: Function to make predictions based on specific columns\n",
        "def predict_length_of_stay(model, input_data, feature_columns):\n",
        "    \"\"\"Predict the length of stay based on the specified input features.\"\"\"\n",
        "    if any(col not in input_data.columns for col in feature_columns):\n",
        "        raise ValueError(\"One or more specified columns are not in the input data.\")\n",
        "\n",
        "    # Select the relevant features from the input data\n",
        "    input_features = input_data[feature_columns]\n",
        "\n",
        "    # Make predictions using the model\n",
        "    predictions = model.predict(input_features)\n",
        "\n",
        "    return predictions\n",
        "\n",
        "# Specify the complete list of feature columns\n",
        "feature_columns = [\n",
        "    'rcount', 'gender', 'dialysisrenalendstage', 'asthma', 'irondef',\n",
        "    'pneum', 'substancedependence', 'psychologicaldisordermajor',\n",
        "    'depress', 'psychother', 'fibrosisandother', 'malnutrition',\n",
        "    'hemo', 'hematocrit', 'neutrophils', 'sodium', 'glucose',\n",
        "    'bloodureanitro', 'creatinine', 'bmi', 'pulse', 'respiration',\n",
        "    'secondarydiagnosisnonicd9', 'facid', 'vdate_year',\n",
        "    'vdate_month', 'discharged_year', 'discharged_month'\n",
        "]\n",
        "\n",
        "# Create a new DataFrame for a single patient prediction with all necessary columns\n",
        "input_data = pd.DataFrame({\n",
        "    'rcount': [1],  # Replace with actual value for one patient\n",
        "    'gender': [1],  # Replace with actual gender encoded value for one patient\n",
        "    'dialysisrenalendstage': [0],  # Replace with actual value for one patient\n",
        "    'asthma': [1],  # Replace with actual value for one patient\n",
        "    'irondef': [0],  # Replace with actual value for one patient\n",
        "    'pneum': [0],  # Replace with actual value for one patient\n",
        "    'substancedependence': [0],  # Replace with actual value for one patient\n",
        "    'psychologicaldisordermajor': [1],  # Replace with actual value for one patient\n",
        "    'depress': [0],  # Replace with actual value for one patient\n",
        "    'psychother': [0],  # Replace with actual value for one patient\n",
        "    'fibrosisandother': [1],  # Replace with actual value for one patient\n",
        "    'malnutrition': [0],  # Replace with actual value for one patient\n",
        "    'hemo': [12],  # Replace with actual value for one patient\n",
        "    'hematocrit': [40],  # Replace with actual value for one patient\n",
        "    'neutrophils': [6.5],  # Replace with actual value for one patient\n",
        "    'sodium': [140],  # Replace with actual value for one patient\n",
        "    'glucose': [90],  # Replace with actual value for one patient\n",
        "    'bloodureanitro': [0.5],  # Replace with actual value for one patient\n",
        "    'creatinine': [1.0],  # Replace with actual value for one patient\n",
        "    'bmi': [22.5],  # Replace with actual value for one patient\n",
        "    'pulse': [72],  # Replace with actual value for one patient\n",
        "    'respiration': [16],  # Replace with actual value for one patient\n",
        "    'secondarydiagnosisnonicd9': [0],  # Replace with actual value for one patient\n",
        "    'facid': [5],  # Replace with actual facid encoded value for one patient\n",
        "    'vdate_year': [2023],\n",
        "    'vdate_month': [10],\n",
        "    'discharged_year': [2023],\n",
        "    'discharged_month': [10],\n",
        "})\n",
        "\n",
        "# Make predictions for a single patient\n",
        "predicted_length_of_stay = predict_length_of_stay(model, input_data, feature_columns)\n",
        "print(\"Predicted Length of Stay:\", predicted_length_of_stay[0])  # Output the prediction for the single patient\n"
      ]
    },
    {
      "cell_type": "code",
      "execution_count": 9,
      "metadata": {},
      "outputs": [
        {
          "data": {
            "text/plain": [
              "['length_of_stay_model_compressed.pkl']"
            ]
          },
          "execution_count": 9,
          "metadata": {},
          "output_type": "execute_result"
        }
      ],
      "source": [
        "import joblib\n",
        "\n",
        "# Assuming your trained model is stored in a variable called `model`\n",
        "joblib.dump(model, 'length_of_stay_model.pkl')\n",
        "joblib.dump(model, 'length_of_stay_model_compressed.pkl', compress=3)\n",
        "\n"
      ]
    }
  ],
  "metadata": {
    "colab": {
      "provenance": []
    },
    "kernelspec": {
      "display_name": "Python 3",
      "name": "python3"
    },
    "language_info": {
      "codemirror_mode": {
        "name": "ipython",
        "version": 3
      },
      "file_extension": ".py",
      "mimetype": "text/x-python",
      "name": "python",
      "nbconvert_exporter": "python",
      "pygments_lexer": "ipython3",
      "version": "3.9.0"
    }
  },
  "nbformat": 4,
  "nbformat_minor": 0
}
